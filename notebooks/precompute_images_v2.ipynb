{
 "cells": [
  {
   "cell_type": "code",
   "execution_count": 1,
   "metadata": {
    "collapsed": true
   },
   "outputs": [],
   "source": [
    "def rename_from_fn_to_slice_numbers( image_list, sorted_fn_list, testing=True):\n",
    "    # RENAME FROM FILENAMES TO SLICE NAMES\n",
    "    for image_full_name in image_list:\n",
    "        for sorted_fn_line in sorted_fn_list:\n",
    "            fn, slice_num = sorted_fn_line.split(' ')\n",
    "            if fn=='Placeholder':\n",
    "                print(slice_num)\n",
    "\n",
    "            if fn in image_full_name:\n",
    "                # Slice number need to be preceeded by zeros to be 3 digits\n",
    "                if len(slice_num)==1:\n",
    "                    slice_num = '00'+slice_num\n",
    "                elif len(slice_num)==2:\n",
    "                    slice_num = '0'+slice_num\n",
    "\n",
    "                old_designation = image_path+image_full_name\n",
    "                new_designation = image_path+stack+'_slice_'+slice_num+'.jpg'\n",
    "                print(old_designation)\n",
    "                print(new_designation)\n",
    "                \n",
    "                if not testing:\n",
    "                    ! cp $old_designation $new_designation\n",
    "\n",
    "\n",
    "def insert_dummy_placeholder_images( image_list, sorted_fn_list, testing=True):\n",
    "    # FILL IN PLACEHOLDER IMAGES WITH THE PREVIOUS IMAGE RENAMED\n",
    "    prev_slice_num = -0.1\n",
    "\n",
    "    for image_full_name in image_list:\n",
    "        img_slice_num = image_full_name.split('_')[2][:image_full_name.split('_')[2].index('.')]\n",
    "\n",
    "        # Iterate through every fn/slice number in sorted filenames\n",
    "        for sorted_fn_line in sorted_fn_list:\n",
    "            fn_sfns, slice_num_sfns = sorted_fn_line.split(' ')\n",
    "            if len(slice_num_sfns)==1:\n",
    "                slice_num_sfns = '00'+slice_num_sfns\n",
    "            elif len(slice_num_sfns)==2:\n",
    "                slice_num_sfns = '0'+slice_num_sfns\n",
    "\n",
    "            # If there is a placeholder slice after the current img_slice_num, then copy\n",
    "            if int(slice_num_sfns)==int(img_slice_num)+1 and fn_sfns=='Placeholder':\n",
    "                prev_img_fn = stack+'_slice_'+str(img_slice_num)+'.jpg'\n",
    "                placeholder_img_fn = stack+'_slice_'+slice_num_sfns+'_placeholder_cfp.jpg'\n",
    "                print(prev_img_fn)\n",
    "                print(placeholder_img_fn)\n",
    "                \n",
    "                if not testing:\n",
    "                    ! cp $images_local/$prev_img_fn $images_local/$placeholder_img_fn\n",
    "                    \n",
    "import os\n",
    "import sys\n",
    "import json\n",
    "\n",
    "sys.path.append(os.path.join( os.environ['NG_REPO_DIR'], 'src', 'utilities'))\n",
    "from filepath_manager import *\n",
    "from precomputing_utilities import *\n",
    "\n",
    "atlas_root = os.environ['ATLAS_DATA_ROOT_DIR']"
   ]
  },
  {
   "cell_type": "code",
   "execution_count": 2,
   "metadata": {
    "collapsed": true
   },
   "outputs": [],
   "source": [
    "stack = 'MD585'\n",
    "\n",
    "# Filepaths to image files already on the computer\n",
    "#    NOT NECESSARY as long as the image files are in the proper location\n",
    "#    (check using `get_image_fp()`)\n",
    "atlas_raw_jpeg_image_path = atlas_root+'CSHL_data_processed/'+stack+'/'+stack+'_prep2_raw_grayJpeg/'\n",
    "atlas_sorted_fn_path = atlas_root+'CSHL_data_processed/'+stack+'/'+stack+'_sorted_filenames.txt'\n",
    "\n",
    "\n",
    "# Input image files for precomputing script\n",
    "temp_renamed_image_path = get_image_fp( stack, precomputed=False, brain_crop='brainstem', \\\n",
    "                                     image_version='grayJpeg', resolution='raw' )\n",
    "precomputed_input_image_path = get_image_fp( stack, precomputed=False, brain_crop='brainstem', \\\n",
    "                                     image_version='grayJpeg', resolution='raw' )\n",
    "temp_sorted_fn_path = precomputed_input_image_path+'../'+stack+'_sorted_filenames.txt'\n",
    "\n",
    "# Output files from precomputing script\n",
    "precomputed_output_image_path = get_image_fp( stack, precomputed=True, brain_crop='brainstem', \\\n",
    "                                     image_version='grayJpeg', resolution='raw' )"
   ]
  },
  {
   "cell_type": "code",
   "execution_count": 3,
   "metadata": {
    "collapsed": true
   },
   "outputs": [],
   "source": [
    "data = {\n",
    "    \"s3_creds_file\": \"/home/alexn/Documents/json_credentials/alex_aws_credentials.json\",\n",
    "    \"s3_bucket_name_for_download\": \"mousebrainatlas-data\",\n",
    "    \"sorted_filename\": stack+\"_sorted_filenames.txt\",\n",
    "    \"ext\": \".jpg\",\n",
    "    \"folder_to_write_to\": \"/mnt/x/temp_s3_download/\"+stack+\"_prep2_lossless_grayJpeg\",\n",
    "    \"folder_to_convert_from\": precomputed_input_image_path,\n",
    "    \"folder_to_convert_to\": precomputed_output_image_path,\n",
    "    \"s3_bucket_name_for_upload\": \"mousebrainatlas-datajoint-jp2k\",\n",
    "    \"s3_dir_to_write_to\": \"precomputed/\"+stack+\"_fullres\",\n",
    "    \"voxel_resolution\": [460, 460, 20000],\n",
    "    \"voxel_offset\": [0, 0, 0],\n",
    "    \"overwrite\": True\n",
    "}\n",
    "\n",
    "with open('input.json', 'w') as file:\n",
    "    json.dump(data, file)\n",
    "  \n",
    " # RUN PRECOMPUTING SCRIPT\n",
    "# running in terminal is much cleaner\n",
    "#! python ../src/precomputation/precompute_images_v1.py input.json"
   ]
  },
  {
   "cell_type": "code",
   "execution_count": null,
   "metadata": {
    "collapsed": true
   },
   "outputs": [],
   "source": []
  },
  {
   "cell_type": "code",
   "execution_count": null,
   "metadata": {
    "collapsed": true
   },
   "outputs": [],
   "source": []
  },
  {
   "cell_type": "code",
   "execution_count": null,
   "metadata": {
    "collapsed": true
   },
   "outputs": [],
   "source": [
    "images_local = data[\"folder_to_convert_from\"]\n",
    "precomputed_local = data[\"folder_to_convert_to\"]\n",
    "precomputed_s3 = 's3://mousebrainatlas-datajoint-jp2k/'+s3_precomputed_path_relative\n",
    "\n",
    "with open( sorted_fn_path, 'r') as sfns:\n",
    "    sorted_fn_list = sfns.read().split('\\n')[:-1]\n",
    "    \n",
    "image_list = ! ls $images_local"
   ]
  },
  {
   "cell_type": "code",
   "execution_count": 4,
   "metadata": {
    "collapsed": true,
    "scrolled": true
   },
   "outputs": [],
   "source": [
    "# RUN PRECOMPUTING SCRIPT\n",
    "# running in terminal is much cleaner\n",
    "######! python neuroglancer_utilities.py input.json;\n",
    "#! python ../src/precompute_images_v1.py input.json"
   ]
  },
  {
   "cell_type": "code",
   "execution_count": 5,
   "metadata": {
    "collapsed": true
   },
   "outputs": [],
   "source": [
    "# COPY PRECOMPUTED FILES TO S3\n",
    "# running in terminal is much cleaner\n",
    "#! aws s3 cp --recursive $precomputed_local $precomputed_s3"
   ]
  }
 ],
 "metadata": {
  "kernelspec": {
   "display_name": "Python 2",
   "language": "python",
   "name": "python2"
  },
  "language_info": {
   "codemirror_mode": {
    "name": "ipython",
    "version": 2
   },
   "file_extension": ".py",
   "mimetype": "text/x-python",
   "name": "python",
   "nbconvert_exporter": "python",
   "pygments_lexer": "ipython2",
   "version": "2.7.12"
  }
 },
 "nbformat": 4,
 "nbformat_minor": 2
}
